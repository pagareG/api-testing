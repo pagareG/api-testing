{
 "cells": [
  {
   "cell_type": "code",
   "execution_count": 41,
   "id": "2b0dc23e",
   "metadata": {},
   "outputs": [
    {
     "data": {
      "text/plain": [
       "True"
      ]
     },
     "execution_count": 41,
     "metadata": {},
     "output_type": "execute_result"
    }
   ],
   "source": [
    "import os\n",
    "from dotenv import load_dotenv\n",
    "import requests\n",
    "import json\n",
    "import pytest\n",
    "\n",
    "load_dotenv()\n",
    "\n",
    "# GCP_PROJECT_ID = os.getenv('GCP_PROJECT_ID')\n",
    "# SERVICE_ACCOUNT_FILE = os.getenv('SERVICE_ACCOUNT_FILE')\n",
    "# STORAGE_BUCKET_NAME = os.getenv('STORAGE_BUCKET_NAME')"
   ]
  },
  {
   "cell_type": "code",
   "execution_count": 2,
   "id": "7c19bb39",
   "metadata": {},
   "outputs": [],
   "source": [
    "ACCESS_TOKEN = os.getenv(\"ACCESS_TOKEN\")"
   ]
  },
  {
   "cell_type": "code",
   "execution_count": 3,
   "id": "36c30baf",
   "metadata": {},
   "outputs": [],
   "source": [
    "# ACCESS_TOKEN"
   ]
  },
  {
   "cell_type": "code",
   "execution_count": 4,
   "id": "45ab61df",
   "metadata": {},
   "outputs": [],
   "source": [
    "TOKEN = 'Bearer ' + ACCESS_TOKEN\n",
    "# TOKEN"
   ]
  },
  {
   "cell_type": "markdown",
   "id": "b684032d",
   "metadata": {},
   "source": [
    "### mantual testing\n",
    "- swagger\n",
    "- postman"
   ]
  },
  {
   "cell_type": "markdown",
   "id": "fa980cc6",
   "metadata": {},
   "source": [
    "- Open Google\n",
    "- write click\n",
    "- inspect from drop down"
   ]
  },
  {
   "cell_type": "markdown",
   "id": "b966d851",
   "metadata": {},
   "source": [
    "[Swagger](https://fakerestapi.azurewebsites.net/index.html)\n",
    "- https://fakerestapi.azurewebsites.net/index.html\n",
    "    \n",
    "- domain name\n",
    "- path"
   ]
  },
  {
   "cell_type": "markdown",
   "id": "eae46399",
   "metadata": {},
   "source": [
    "### Automation\n",
    "- jmeter\n",
    "- python"
   ]
  },
  {
   "cell_type": "markdown",
   "id": "b74d6a11",
   "metadata": {},
   "source": [
    "#### python packages index\n",
    "- find install and publish python packages"
   ]
  },
  {
   "cell_type": "markdown",
   "id": "0a66351f",
   "metadata": {},
   "source": [
    "https://pypi.org/project/requests/"
   ]
  },
  {
   "cell_type": "markdown",
   "id": "7bee9e94",
   "metadata": {},
   "source": [
    "### python packae distribution\n",
    "https://packaging.python.org/en/latest/tutorials/packaging-projects/"
   ]
  },
  {
   "cell_type": "code",
   "execution_count": 5,
   "id": "176b866d",
   "metadata": {},
   "outputs": [],
   "source": [
    "# pip install requests"
   ]
  },
  {
   "cell_type": "markdown",
   "id": "0e9e2b09",
   "metadata": {},
   "source": [
    "### Google chrome extention\n",
    "- json beautifier and editor"
   ]
  },
  {
   "cell_type": "markdown",
   "id": "6b50ad53",
   "metadata": {},
   "source": [
    "https://www.youtube.com/watch?v=kDTjjsM4euE&list=PLHT5rv7PEE4N3ol8lBoxHBmzWvVW2UwmC&index=2"
   ]
  },
  {
   "cell_type": "code",
   "execution_count": null,
   "id": "3b73a9ee",
   "metadata": {},
   "outputs": [],
   "source": []
  },
  {
   "cell_type": "code",
   "execution_count": null,
   "id": "6b6b4dd5",
   "metadata": {},
   "outputs": [],
   "source": []
  },
  {
   "cell_type": "markdown",
   "id": "48c01526",
   "metadata": {},
   "source": [
    "### Get Request"
   ]
  },
  {
   "cell_type": "code",
   "execution_count": 6,
   "id": "10c396c1",
   "metadata": {},
   "outputs": [
    {
     "name": "stdout",
     "output_type": "stream",
     "text": [
      "Response Code: \n",
      " 200\n",
      "Response Header: \n",
      " {'Content-Type': 'application/json; charset=utf-8; v=1.0', 'Date': 'Sun, 08 Oct 2023 14:59:17 GMT', 'Server': 'Kestrel', 'Transfer-Encoding': 'chunked', 'api-supported-versions': '1.0'}\n",
      "Response Body: \n",
      " [{'id': 1, 'title': 'Activity 1', 'dueDate': '2023-10-08T15:59:18.4645232+00:00', 'completed': False}, {'id': 2, 'title': 'Activity 2', 'dueDate': '2023-10-08T16:59:18.4645253+00:00', 'completed': True}, {'id': 3, 'title': 'Activity 3', 'dueDate': '2023-10-08T17:59:18.4645256+00:00', 'completed': False}, {'id': 4, 'title': 'Activity 4', 'dueDate': '2023-10-08T18:59:18.464526+00:00', 'completed': True}, {'id': 5, 'title': 'Activity 5', 'dueDate': '2023-10-08T19:59:18.4645263+00:00', 'completed': False}, {'id': 6, 'title': 'Activity 6', 'dueDate': '2023-10-08T20:59:18.4645269+00:00', 'completed': True}, {'id': 7, 'title': 'Activity 7', 'dueDate': '2023-10-08T21:59:18.4645273+00:00', 'completed': False}, {'id': 8, 'title': 'Activity 8', 'dueDate': '2023-10-08T22:59:18.4645276+00:00', 'completed': True}, {'id': 9, 'title': 'Activity 9', 'dueDate': '2023-10-08T23:59:18.464528+00:00', 'completed': False}, {'id': 10, 'title': 'Activity 10', 'dueDate': '2023-10-09T00:59:18.4645287+00:00', 'completed': True}, {'id': 11, 'title': 'Activity 11', 'dueDate': '2023-10-09T01:59:18.4645291+00:00', 'completed': False}, {'id': 12, 'title': 'Activity 12', 'dueDate': '2023-10-09T02:59:18.4645294+00:00', 'completed': True}, {'id': 13, 'title': 'Activity 13', 'dueDate': '2023-10-09T03:59:18.4645298+00:00', 'completed': False}, {'id': 14, 'title': 'Activity 14', 'dueDate': '2023-10-09T04:59:18.4645323+00:00', 'completed': True}, {'id': 15, 'title': 'Activity 15', 'dueDate': '2023-10-09T05:59:18.4645326+00:00', 'completed': False}, {'id': 16, 'title': 'Activity 16', 'dueDate': '2023-10-09T06:59:18.464533+00:00', 'completed': True}, {'id': 17, 'title': 'Activity 17', 'dueDate': '2023-10-09T07:59:18.4645334+00:00', 'completed': False}, {'id': 18, 'title': 'Activity 18', 'dueDate': '2023-10-09T08:59:18.4645339+00:00', 'completed': True}, {'id': 19, 'title': 'Activity 19', 'dueDate': '2023-10-09T09:59:18.4645342+00:00', 'completed': False}, {'id': 20, 'title': 'Activity 20', 'dueDate': '2023-10-09T10:59:18.4645346+00:00', 'completed': True}, {'id': 21, 'title': 'Activity 21', 'dueDate': '2023-10-09T11:59:18.464535+00:00', 'completed': False}, {'id': 22, 'title': 'Activity 22', 'dueDate': '2023-10-09T12:59:18.4645353+00:00', 'completed': True}, {'id': 23, 'title': 'Activity 23', 'dueDate': '2023-10-09T13:59:18.4645357+00:00', 'completed': False}, {'id': 24, 'title': 'Activity 24', 'dueDate': '2023-10-09T14:59:18.4645361+00:00', 'completed': True}, {'id': 25, 'title': 'Activity 25', 'dueDate': '2023-10-09T15:59:18.4645364+00:00', 'completed': False}, {'id': 26, 'title': 'Activity 26', 'dueDate': '2023-10-09T16:59:18.4645368+00:00', 'completed': True}, {'id': 27, 'title': 'Activity 27', 'dueDate': '2023-10-09T17:59:18.4645372+00:00', 'completed': False}, {'id': 28, 'title': 'Activity 28', 'dueDate': '2023-10-09T18:59:18.4645375+00:00', 'completed': True}, {'id': 29, 'title': 'Activity 29', 'dueDate': '2023-10-09T19:59:18.4645379+00:00', 'completed': False}, {'id': 30, 'title': 'Activity 30', 'dueDate': '2023-10-09T20:59:18.4645382+00:00', 'completed': True}]\n",
      "Response Cookies: \n",
      " <RequestsCookieJar[]>\n"
     ]
    }
   ],
   "source": [
    "response = requests.get(\"https://fakerestapi.azurewebsites.net/api/v1/Activities\")\n",
    "\n",
    "\n",
    "\n",
    "print(\"Response Code: \\n\", response.status_code)\n",
    "print(\"Response Header: \\n\", response.headers)\n",
    "print(\"Response Body: \\n\", response.json())\n",
    "print(\"Response Cookies: \\n\", response.cookies)"
   ]
  },
  {
   "cell_type": "code",
   "execution_count": 7,
   "id": "2758677b",
   "metadata": {},
   "outputs": [
    {
     "ename": "AssertionError",
     "evalue": "",
     "output_type": "error",
     "traceback": [
      "\u001b[1;31m---------------------------------------------------------------------------\u001b[0m",
      "\u001b[1;31mAssertionError\u001b[0m                            Traceback (most recent call last)",
      "Cell \u001b[1;32mIn[7], line 1\u001b[0m\n\u001b[1;32m----> 1\u001b[0m \u001b[38;5;28;01massert\u001b[39;00m response\u001b[38;5;241m.\u001b[39mstatus_code \u001b[38;5;241m==\u001b[39m \u001b[38;5;241m201\u001b[39m\n",
      "\u001b[1;31mAssertionError\u001b[0m: "
     ]
    }
   ],
   "source": [
    "assert response.status_code == 201"
   ]
  },
  {
   "cell_type": "code",
   "execution_count": null,
   "id": "d31bea0b",
   "metadata": {},
   "outputs": [],
   "source": []
  },
  {
   "cell_type": "code",
   "execution_count": 8,
   "id": "08fd93e0",
   "metadata": {},
   "outputs": [
    {
     "name": "stdout",
     "output_type": "stream",
     "text": [
      "<Response [200]>\n"
     ]
    }
   ],
   "source": [
    "print(response)"
   ]
  },
  {
   "cell_type": "code",
   "execution_count": 9,
   "id": "8ddc7687",
   "metadata": {},
   "outputs": [
    {
     "name": "stdout",
     "output_type": "stream",
     "text": [
      "Response Code: \n",
      " 200\n",
      "Response Header: \n",
      " {'Content-Type': 'application/json; charset=utf-8; v=1.0', 'Date': 'Sun, 08 Oct 2023 14:59:36 GMT', 'Server': 'Kestrel', 'Transfer-Encoding': 'chunked', 'api-supported-versions': '1.0'}\n",
      "Response Body: \n",
      " {'id': 1, 'title': 'Activity 1', 'dueDate': '2023-10-08T15:59:37.9086936+00:00', 'completed': False}\n",
      "Response Cookies: \n",
      " <RequestsCookieJar[]>\n"
     ]
    }
   ],
   "source": [
    "response = requests.get(\"https://fakerestapi.azurewebsites.net/api/v1/Activities/1\")\n",
    "print(\"Response Code: \\n\", response.status_code)\n",
    "print(\"Response Header: \\n\", response.headers)\n",
    "print(\"Response Body: \\n\", response.json())\n",
    "print(\"Response Cookies: \\n\", response.cookies)"
   ]
  },
  {
   "cell_type": "code",
   "execution_count": 10,
   "id": "759d6b9b",
   "metadata": {},
   "outputs": [
    {
     "name": "stdout",
     "output_type": "stream",
     "text": [
      "<RequestsCookieJar[]>\n"
     ]
    }
   ],
   "source": [
    "print(response.cookies)"
   ]
  },
  {
   "cell_type": "markdown",
   "id": "da074156",
   "metadata": {},
   "source": [
    "### Post Request"
   ]
  },
  {
   "cell_type": "markdown",
   "id": "b3ad9802",
   "metadata": {},
   "source": [
    "https://www.youtube.com/watch?v=GJGUQ5IP6JI&list=PLHT5rv7PEE4N3ol8lBoxHBmzWvVW2UwmC&index=3"
   ]
  },
  {
   "cell_type": "markdown",
   "id": "1d118a73",
   "metadata": {},
   "source": [
    "- create data"
   ]
  },
  {
   "cell_type": "code",
   "execution_count": 12,
   "id": "d3c85a94",
   "metadata": {},
   "outputs": [],
   "source": [
    "header = {\n",
    "    \"accept\" : 'text/plain',\n",
    "    \"content-type\" : 'application/json'\n",
    "}\n",
    "\n",
    "request_payload = {\n",
    "    \"id\": 400,\n",
    "    \"title\": \"Harry potter\",\n",
    "    \"dueDate\": \"2023-10-08T09:52:04.572Z\",\n",
    "    \"completed\": True\n",
    "}\n"
   ]
  },
  {
   "cell_type": "code",
   "execution_count": 13,
   "id": "5f06d50f",
   "metadata": {},
   "outputs": [],
   "source": [
    "response_post = requests.post(\n",
    "    url = \"https://fakerestapi.azurewebsites.net/api/v1/Activities\",\n",
    "    data = request_payload,\n",
    "    headers = header\n",
    ")\n"
   ]
  },
  {
   "cell_type": "code",
   "execution_count": 14,
   "id": "00d57fe5",
   "metadata": {},
   "outputs": [
    {
     "name": "stdout",
     "output_type": "stream",
     "text": [
      "Response Code: \n",
      " 400\n",
      "Response Header: \n",
      " {'Content-Type': 'application/problem+json; charset=utf-8', 'Date': 'Sun, 08 Oct 2023 15:00:18 GMT', 'Server': 'Kestrel', 'Transfer-Encoding': 'chunked'}\n",
      "Response Body: \n",
      " {'type': 'https://tools.ietf.org/html/rfc7231#section-6.5.1', 'title': 'One or more validation errors occurred.', 'status': 400, 'traceId': '00-976145d9243fca4ea808c104fc22c49a-7142d88525ad8d4a-00', 'errors': {'$': [\"'i' is an invalid start of a value. Path: $ | LineNumber: 0 | BytePositionInLine: 0.\"]}}\n",
      "Response Cookies: \n",
      " <RequestsCookieJar[]>\n"
     ]
    }
   ],
   "source": [
    "print(\"Response Code: \\n\", response_post.status_code)\n",
    "print(\"Response Header: \\n\", response_post.headers)\n",
    "print(\"Response Body: \\n\", response_post.json())\n",
    "print(\"Response Cookies: \\n\", response_post.cookies)"
   ]
  },
  {
   "cell_type": "code",
   "execution_count": 15,
   "id": "8595b60c",
   "metadata": {},
   "outputs": [],
   "source": [
    "response_post = requests.post(\n",
    "    url = \"https://fakerestapi.azurewebsites.net/api/v1/Activities\",\n",
    "    json = request_payload,\n",
    "    headers = header\n",
    ")\n"
   ]
  },
  {
   "cell_type": "code",
   "execution_count": 16,
   "id": "fca96d6b",
   "metadata": {},
   "outputs": [
    {
     "name": "stdout",
     "output_type": "stream",
     "text": [
      "Response Code: \n",
      " 200\n",
      "Response Header: \n",
      " {'Content-Type': 'application/json; charset=utf-8; v=1.0', 'Date': 'Sun, 08 Oct 2023 15:00:21 GMT', 'Server': 'Kestrel', 'Transfer-Encoding': 'chunked', 'api-supported-versions': '1.0'}\n",
      "Response Body: \n",
      " {'id': 400, 'title': 'Harry potter', 'dueDate': '2023-10-08T09:52:04.572Z', 'completed': True}\n",
      "Response Cookies: \n",
      " <RequestsCookieJar[]>\n"
     ]
    }
   ],
   "source": [
    "print(\"Response Code: \\n\", response_post.status_code)\n",
    "print(\"Response Header: \\n\", response_post.headers)\n",
    "print(\"Response Body: \\n\", response_post.json())\n",
    "print(\"Response Cookies: \\n\", response_post.cookies)"
   ]
  },
  {
   "cell_type": "code",
   "execution_count": null,
   "id": "64a5d710",
   "metadata": {},
   "outputs": [],
   "source": []
  },
  {
   "cell_type": "code",
   "execution_count": null,
   "id": "c46e4e95",
   "metadata": {},
   "outputs": [],
   "source": []
  },
  {
   "cell_type": "code",
   "execution_count": 17,
   "id": "6652c926",
   "metadata": {},
   "outputs": [],
   "source": [
    "data = response_post.json()\n",
    "\n",
    "assert data['id'] == 400"
   ]
  },
  {
   "cell_type": "code",
   "execution_count": null,
   "id": "2d918901",
   "metadata": {},
   "outputs": [],
   "source": []
  },
  {
   "cell_type": "code",
   "execution_count": 18,
   "id": "a5079ca2",
   "metadata": {},
   "outputs": [
    {
     "ename": "AssertionError",
     "evalue": "",
     "output_type": "error",
     "traceback": [
      "\u001b[1;31m---------------------------------------------------------------------------\u001b[0m",
      "\u001b[1;31mAssertionError\u001b[0m                            Traceback (most recent call last)",
      "Cell \u001b[1;32mIn[18], line 1\u001b[0m\n\u001b[1;32m----> 1\u001b[0m \u001b[38;5;28;01massert\u001b[39;00m response_post \u001b[38;5;241m==\u001b[39m \u001b[38;5;241m201\u001b[39m\n",
      "\u001b[1;31mAssertionError\u001b[0m: "
     ]
    }
   ],
   "source": [
    "assert response_post == 201"
   ]
  },
  {
   "cell_type": "code",
   "execution_count": 19,
   "id": "8ee96974",
   "metadata": {},
   "outputs": [],
   "source": [
    "assert response.status_code == 200"
   ]
  },
  {
   "cell_type": "markdown",
   "id": "f514526b",
   "metadata": {},
   "source": [
    "### Put method\n",
    "\n",
    "- update\n",
    "\n",
    "- https://www.youtube.com/watch?v=gD6fkFUiRfs&list=PLHT5rv7PEE4N3ol8lBoxHBmzWvVW2UwmC&index=4"
   ]
  },
  {
   "cell_type": "code",
   "execution_count": 20,
   "id": "a5a98472",
   "metadata": {},
   "outputs": [
    {
     "name": "stdout",
     "output_type": "stream",
     "text": [
      "Before update\n",
      "{'id': 15, 'title': 'Activity 15', 'dueDate': '2023-10-09T06:01:44.7763657+00:00', 'completed': False}\n",
      "after update\n",
      "{'id': 18, 'title': 'Test activity 15 updated', 'dueDate': '2023-10-08T02:20:50.5443957+00:00', 'completed': False}\n"
     ]
    }
   ],
   "source": [
    "response_get = requests.get(\n",
    "    url= \"https://fakerestapi.azurewebsites.net/api/v1/Activities/15\"\n",
    ")\n",
    "\n",
    "\n",
    "print(\"Before update\")\n",
    "print(response_get.json())\n",
    "\n",
    "header_put = {\n",
    "    \"Accept\" : 'text/plain',\n",
    "    \"Content-Type\" : 'application/json'\n",
    "}\n",
    "\n",
    "put_payload = {\n",
    "    'id': 18,\n",
    "    'title': 'Test activity 15 updated',\n",
    "    'dueDate': '2023-10-08T02:20:50.5443957+00:00',\n",
    "    'completed': False\n",
    "}\n",
    "\n",
    "\n",
    "response_put = requests.put(\n",
    "    url= \"https://fakerestapi.azurewebsites.net/api/v1/Activities/15\",\n",
    "    headers = header_put,\n",
    "    json = put_payload\n",
    ")\n",
    "\n",
    "print(\"after update\")\n",
    "print(response_put.json())\n"
   ]
  },
  {
   "cell_type": "code",
   "execution_count": null,
   "id": "038b858d",
   "metadata": {},
   "outputs": [],
   "source": []
  },
  {
   "cell_type": "code",
   "execution_count": null,
   "id": "28d3ec5b",
   "metadata": {},
   "outputs": [],
   "source": []
  },
  {
   "cell_type": "markdown",
   "id": "fea2a526",
   "metadata": {},
   "source": [
    "### Authorization call"
   ]
  },
  {
   "cell_type": "markdown",
   "id": "ae545e12",
   "metadata": {},
   "source": [
    "https://www.youtube.com/watch?v=FvsbK7AY-M0&list=PLHT5rv7PEE4N3ol8lBoxHBmzWvVW2UwmC&index=5"
   ]
  },
  {
   "cell_type": "markdown",
   "id": "a55141b0",
   "metadata": {},
   "source": [
    "https://gorest.co.in/"
   ]
  },
  {
   "cell_type": "code",
   "execution_count": null,
   "id": "a18415b2",
   "metadata": {},
   "outputs": [],
   "source": []
  },
  {
   "cell_type": "markdown",
   "id": "cfb1deb5",
   "metadata": {},
   "source": [
    "- 200 - success\n",
    "- 201 - created\n",
    "- 400 - bad\n",
    "- 404 - not found\n",
    "- 500 - server error"
   ]
  },
  {
   "cell_type": "code",
   "execution_count": null,
   "id": "23975f30",
   "metadata": {},
   "outputs": [],
   "source": []
  },
  {
   "cell_type": "code",
   "execution_count": 25,
   "id": "f69a900d",
   "metadata": {},
   "outputs": [],
   "source": [
    "url = \"https://gorest.co.in/public/v2/users\"\n",
    "\n",
    "header = {\n",
    "#     \"Accept\" : 'text/plain',\n",
    "    \"Content-Type\" : 'application/json',\n",
    "    \"Authorization\" : TOKEN\n",
    "}\n",
    "\n",
    "body =   {\n",
    "    \"id\": \"5301858\",\n",
    "    \"name\": \"Kama Kakkar PhD\",\n",
    "    \"email\": \"ok12@lehner-rodriguez.test\",\n",
    "    \"gender\": \"female\",\n",
    "    \"status\": \"active\"\n",
    "  }\n",
    "\n",
    "\n",
    "response_auth = requests.post(\n",
    "    url= url,\n",
    "    headers = header,\n",
    "    json = body\n",
    ")"
   ]
  },
  {
   "cell_type": "code",
   "execution_count": 26,
   "id": "440e45a4",
   "metadata": {},
   "outputs": [
    {
     "name": "stdout",
     "output_type": "stream",
     "text": [
      "Response Code: \n",
      " 201\n",
      "Response Header: \n",
      " {'Date': 'Sun, 08 Oct 2023 15:03:34 GMT', 'Content-Type': 'application/json; charset=utf-8', 'Transfer-Encoding': 'chunked', 'Connection': 'keep-alive', 'Cache-Control': 'max-age=0, private, must-revalidate', 'etag': 'W/\"230e62d711f09c52d630b38808757a09\"', 'location': 'https://gorest.co.in/public/v2/users/5312736', 'referrer-policy': 'strict-origin-when-cross-origin', 'vary': 'Origin', 'x-content-type-options': 'nosniff', 'x-download-options': 'noopen', 'x-frame-options': 'SAMEORIGIN', 'x-permitted-cross-domain-policies': 'none', 'x-ratelimit-limit': '90', 'x-ratelimit-remaining': '89', 'x-ratelimit-reset': '1', 'x-request-id': '71ae32e5-9a82-4200-9921-e7b2b3d02b62', 'x-runtime': '0.088337', 'x-xss-protection': '0', 'CF-Cache-Status': 'DYNAMIC', 'Report-To': '{\"endpoints\":[{\"url\":\"https:\\\\/\\\\/a.nel.cloudflare.com\\\\/report\\\\/v3?s=84aJ0eCf7PvceJbXFWEsAwi35%2FQhimxoVym0HZMY8ROT7YZ7uqY%2BH1NIByCskSe6xuoU9Eq3CWiPtaaiFprdOt2yUQ%2F6xOtt%2B0iPbyZGRLX5itwgrvWulWm6hfA1TLA%3D\"}],\"group\":\"cf-nel\",\"max_age\":604800}', 'NEL': '{\"success_fraction\":0,\"report_to\":\"cf-nel\",\"max_age\":604800}', 'Server': 'cloudflare', 'CF-RAY': '812f457569223f5e-SIN', 'alt-svc': 'h3=\":443\"; ma=86400'}\n",
      "Response Body: \n",
      " {'id': 5312736, 'name': 'Kama Kakkar PhD', 'email': 'ok12@lehner-rodriguez.test', 'gender': 'female', 'status': 'active'}\n",
      "Response Cookies: \n",
      " <RequestsCookieJar[]>\n"
     ]
    }
   ],
   "source": [
    "print(\"Response Code: \\n\", response_auth.status_code)\n",
    "print(\"Response Header: \\n\", response_auth.headers)\n",
    "print(\"Response Body: \\n\", response_auth.json())\n",
    "print(\"Response Cookies: \\n\", response_auth.cookies)"
   ]
  },
  {
   "cell_type": "code",
   "execution_count": 27,
   "id": "3086ab64",
   "metadata": {},
   "outputs": [
    {
     "data": {
      "text/plain": [
       "{'id': 5312736,\n",
       " 'name': 'Kama Kakkar PhD',\n",
       " 'email': 'ok12@lehner-rodriguez.test',\n",
       " 'gender': 'female',\n",
       " 'status': 'active'}"
      ]
     },
     "execution_count": 27,
     "metadata": {},
     "output_type": "execute_result"
    }
   ],
   "source": [
    "getResponse = requests.get(url=url + '/' +str(response_auth.json()[\"id\"]), headers = header)\n",
    "getResponse.json()"
   ]
  },
  {
   "cell_type": "markdown",
   "id": "668385ba",
   "metadata": {},
   "source": [
    "### Passing parameters"
   ]
  },
  {
   "cell_type": "markdown",
   "id": "e39e581c",
   "metadata": {},
   "source": [
    "https://www.youtube.com/watch?v=stGXG9Psy_k&list=PLHT5rv7PEE4N3ol8lBoxHBmzWvVW2UwmC&index=6"
   ]
  },
  {
   "cell_type": "code",
   "execution_count": 28,
   "id": "71bf0768",
   "metadata": {},
   "outputs": [],
   "source": [
    "url = \"https://gorest.co.in/public/v2/users?page=4&per_page=2\"\n",
    "\n",
    "header = {\n",
    "    \"Accept\" : 'text/plain',\n",
    "    \"Content-Type\" : 'Application/json',\n",
    "    \"Authorization\" : TOKEN\n",
    "}\n",
    "\n"
   ]
  },
  {
   "cell_type": "code",
   "execution_count": 29,
   "id": "9bd0398c",
   "metadata": {},
   "outputs": [],
   "source": [
    "response_param = requests.get(url=url, headers = header)"
   ]
  },
  {
   "cell_type": "code",
   "execution_count": 30,
   "id": "5088ef1c",
   "metadata": {},
   "outputs": [
    {
     "name": "stdout",
     "output_type": "stream",
     "text": [
      "Response Code: \n",
      " 200\n",
      "Response Header: \n",
      " {'Date': 'Sun, 08 Oct 2023 15:03:45 GMT', 'Content-Type': 'application/json; charset=utf-8', 'Transfer-Encoding': 'chunked', 'Connection': 'keep-alive', 'Cache-Control': 'max-age=0, private, must-revalidate', 'etag': 'W/\"23a3360c02c856bf14c8d9fb71dca9f4\"', 'referrer-policy': 'strict-origin-when-cross-origin', 'vary': 'Origin', 'x-content-type-options': 'nosniff', 'x-download-options': 'noopen', 'x-frame-options': 'SAMEORIGIN', 'x-links-current': 'https://gorest.co.in/public/v2/users?page=4', 'x-links-next': 'https://gorest.co.in/public/v2/users?page=5', 'x-links-previous': 'https://gorest.co.in/public/v2/users?page=3', 'x-pagination-limit': '10', 'x-pagination-page': '4', 'x-pagination-pages': '285', 'x-pagination-total': '2848', 'x-permitted-cross-domain-policies': 'none', 'x-ratelimit-limit': '90', 'x-ratelimit-remaining': '89', 'x-ratelimit-reset': '1', 'x-request-id': '41bce192-b557-43a0-b4df-801658e8c127', 'x-runtime': '0.060186', 'x-xss-protection': '0', 'CF-Cache-Status': 'DYNAMIC', 'Report-To': '{\"endpoints\":[{\"url\":\"https:\\\\/\\\\/a.nel.cloudflare.com\\\\/report\\\\/v3?s=8gEIPYs%2BVmqq9kg4bVOumy9w859AwqrGcpPrzk1JMpYfW4WDwKmOJDMt1gcHdDTTjpyaCX2QVoPrmd%2F22K2NmPcNR1nyueKhB8RIOPKHplcAxAne8Em7ddLblqdbxzc%3D\"}],\"group\":\"cf-nel\",\"max_age\":604800}', 'NEL': '{\"success_fraction\":0,\"report_to\":\"cf-nel\",\"max_age\":604800}', 'Server': 'cloudflare', 'CF-RAY': '812f45bbffe33fc5-SIN', 'Content-Encoding': 'br', 'alt-svc': 'h3=\":443\"; ma=86400'}\n",
      "Response Body: \n",
      " [{'id': 5307709, 'name': 'Kama Kakkar PhD', 'email': 'okakama@lehner-rodriguez.test', 'gender': 'female', 'status': 'active'}, {'id': 5303984, 'name': 'Kama Kakkar PhD', 'email': 'okaddphd_kakkarok_kama@lehner-rodriguez.test', 'gender': 'female', 'status': 'active'}]\n",
      "Response Cookies: \n",
      " <RequestsCookieJar[]>\n"
     ]
    }
   ],
   "source": [
    "print(\"Response Code: \\n\", response_param.status_code)\n",
    "print(\"Response Header: \\n\", response_param.headers)\n",
    "print(\"Response Body: \\n\", response_param.json())\n",
    "print(\"Response Cookies: \\n\", response_param.cookies)"
   ]
  },
  {
   "cell_type": "code",
   "execution_count": 31,
   "id": "e595327c",
   "metadata": {},
   "outputs": [],
   "source": [
    "para = {\n",
    "    \"page\" : 3,\n",
    "    \"per_page\" : 1\n",
    "}\n",
    "\n",
    "url = \"https://gorest.co.in/public/v2/users\""
   ]
  },
  {
   "cell_type": "code",
   "execution_count": 32,
   "id": "a6b9ae68",
   "metadata": {},
   "outputs": [],
   "source": [
    "response_para = requests.get(url=url, params=para)"
   ]
  },
  {
   "cell_type": "code",
   "execution_count": 33,
   "id": "908fcb26",
   "metadata": {},
   "outputs": [
    {
     "name": "stdout",
     "output_type": "stream",
     "text": [
      "Response Code: \n",
      " 200\n",
      "Response Header: \n",
      " {'Date': 'Sun, 08 Oct 2023 15:03:53 GMT', 'Content-Type': 'application/json; charset=utf-8', 'Transfer-Encoding': 'chunked', 'Connection': 'keep-alive', 'Cache-Control': 'max-age=0, private, must-revalidate', 'etag': 'W/\"5a6811e100485e9fb2baf05908edfbf1\"', 'referrer-policy': 'strict-origin-when-cross-origin', 'vary': 'Origin', 'x-content-type-options': 'nosniff', 'x-download-options': 'noopen', 'x-frame-options': 'SAMEORIGIN', 'x-links-current': 'https://gorest.co.in/public/v2/users?page=3', 'x-links-next': 'https://gorest.co.in/public/v2/users?page=4', 'x-links-previous': 'https://gorest.co.in/public/v2/users?page=2', 'x-pagination-limit': '10', 'x-pagination-page': '3', 'x-pagination-pages': '284', 'x-pagination-total': '2839', 'x-permitted-cross-domain-policies': 'none', 'x-request-id': '73035b36-360a-49b1-8e79-7c47248fdee7', 'x-runtime': '0.034117', 'x-xss-protection': '0', 'CF-Cache-Status': 'DYNAMIC', 'Report-To': '{\"endpoints\":[{\"url\":\"https:\\\\/\\\\/a.nel.cloudflare.com\\\\/report\\\\/v3?s=by3m42LI2RWVP7tUH7iBGH7WBQFXxPVQh3NXLoTy2p67ZDSH9gyD3RWT105KRwT%2B5bF4ZQw4s06I3KQqOzbeseXSGlJ75TGD6D87xDJDaMr1vla7eZ9hlt%2FhaN6FphY%3D\"}],\"group\":\"cf-nel\",\"max_age\":604800}', 'NEL': '{\"success_fraction\":0,\"report_to\":\"cf-nel\",\"max_age\":604800}', 'Server': 'cloudflare', 'CF-RAY': '812f45eead333fb8-SIN', 'Content-Encoding': 'br', 'alt-svc': 'h3=\":443\"; ma=86400'}\n",
      "Response Body: \n",
      " [{'id': 5301766, 'name': 'Goswamee Gill', 'email': 'gill_goswamee@mohr-kub.example', 'gender': 'male', 'status': 'inactive'}]\n",
      "Response Cookies: \n",
      " <RequestsCookieJar[]>\n"
     ]
    }
   ],
   "source": [
    "print(\"Response Code: \\n\", response_para.status_code)\n",
    "print(\"Response Header: \\n\", response_para.headers)\n",
    "print(\"Response Body: \\n\", response_para.json())\n",
    "print(\"Response Cookies: \\n\", response_para.cookies)"
   ]
  },
  {
   "cell_type": "code",
   "execution_count": null,
   "id": "f57564c7",
   "metadata": {},
   "outputs": [],
   "source": []
  },
  {
   "cell_type": "markdown",
   "id": "c345e5c9",
   "metadata": {},
   "source": [
    "### post call , passing payload from json"
   ]
  },
  {
   "cell_type": "markdown",
   "id": "3320c2ee",
   "metadata": {},
   "source": [
    "https://www.youtube.com/watch?v=eAm6RGROLY0&list=PLHT5rv7PEE4N3ol8lBoxHBmzWvVW2UwmC&index=7"
   ]
  },
  {
   "cell_type": "markdown",
   "id": "4f7d3bed",
   "metadata": {},
   "source": [
    "https://reqres.in/"
   ]
  },
  {
   "cell_type": "code",
   "execution_count": 34,
   "id": "12633701",
   "metadata": {},
   "outputs": [],
   "source": [
    "url = \"https://reqres.in\"\n",
    "\n",
    "header = {\"Content-Type\": 'application/json'}\n",
    "\n",
    "payload = {\n",
    "    \"name\": \"morpheus\",\n",
    "    \"job\": \"leader\"\n",
    "}\n",
    "\n",
    "respose = requests.post(url= url + \"/api/users\", headers = header, json=payload)"
   ]
  },
  {
   "cell_type": "code",
   "execution_count": 35,
   "id": "ed45cc14",
   "metadata": {},
   "outputs": [
    {
     "name": "stdout",
     "output_type": "stream",
     "text": [
      "Response Code: \n",
      " 201\n",
      "Response Header: \n",
      " {'Date': 'Sun, 08 Oct 2023 15:04:00 GMT', 'Content-Type': 'application/json; charset=utf-8', 'Content-Length': '84', 'Connection': 'keep-alive', 'X-Powered-By': 'Express', 'Access-Control-Allow-Origin': '*', 'Etag': 'W/\"54-bgCeEYgNIWkD8U6I5bF7dlqT7tE\"', 'Via': '1.1 vegur', 'CF-Cache-Status': 'DYNAMIC', 'Report-To': '{\"endpoints\":[{\"url\":\"https:\\\\/\\\\/a.nel.cloudflare.com\\\\/report\\\\/v3?s=Jdd7yIATd8%2BIOzTdaGVxW%2FEMqtgkMvFTsaAl2mK6YLoo0lmVHrkKWKodXm%2F4JUyvJqW82Hejq%2BP6WB7G0fdvs1NBj4W7d6y4Y4X8lFBad5%2BTNt5bhXxNlk5wHA%3D%3D\"}],\"group\":\"cf-nel\",\"max_age\":604800}', 'NEL': '{\"success_fraction\":0,\"report_to\":\"cf-nel\",\"max_age\":604800}', 'Server': 'cloudflare', 'CF-RAY': '812f4618be509fa4-SIN'}\n",
      "Response Body: \n",
      " {'name': 'morpheus', 'job': 'leader', 'id': '955', 'createdAt': '2023-10-08T15:04:00.398Z'}\n",
      "Response Cookies: \n",
      " <RequestsCookieJar[]>\n"
     ]
    }
   ],
   "source": [
    "print(\"Response Code: \\n\", respose.status_code)\n",
    "print(\"Response Header: \\n\", respose.headers)\n",
    "print(\"Response Body: \\n\", respose.json())\n",
    "print(\"Response Cookies: \\n\", respose.cookies)"
   ]
  },
  {
   "cell_type": "code",
   "execution_count": null,
   "id": "b5ec2c80",
   "metadata": {},
   "outputs": [],
   "source": []
  },
  {
   "cell_type": "code",
   "execution_count": 36,
   "id": "c5a2ec13",
   "metadata": {},
   "outputs": [],
   "source": [
    "json_file = open(\"./users.json\")\n",
    "json_payload = json.load(json_file)"
   ]
  },
  {
   "cell_type": "code",
   "execution_count": 37,
   "id": "ffbf1e5b",
   "metadata": {},
   "outputs": [
    {
     "name": "stdout",
     "output_type": "stream",
     "text": [
      "Response Code: \n",
      " 201\n",
      "Response Header: \n",
      " {'Date': 'Sun, 08 Oct 2023 15:04:09 GMT', 'Content-Type': 'application/json; charset=utf-8', 'Content-Length': '80', 'Connection': 'keep-alive', 'Report-To': '{\"group\":\"heroku-nel\",\"max_age\":3600,\"endpoints\":[{\"url\":\"https://nel.heroku.com/reports?ts=1696777449&sid=c4c9725f-1ab0-44d8-820f-430df2718e11&s=BeYJYKnr%2B8Vc7cs1BDgT%2FbnHJrLXQDA0nCsgSs%2B8CBM%3D\"}]}', 'Reporting-Endpoints': 'heroku-nel=https://nel.heroku.com/reports?ts=1696777449&sid=c4c9725f-1ab0-44d8-820f-430df2718e11&s=BeYJYKnr%2B8Vc7cs1BDgT%2FbnHJrLXQDA0nCsgSs%2B8CBM%3D', 'Nel': '{\"report_to\":\"heroku-nel\",\"max_age\":3600,\"success_fraction\":0.005,\"failure_fraction\":0.05,\"response_headers\":[\"Via\"]}', 'X-Powered-By': 'Express', 'Access-Control-Allow-Origin': '*', 'Etag': 'W/\"50-j179OREWDrfHmaBtk+qfDh1Hfh8\"', 'Via': '1.1 vegur', 'CF-Cache-Status': 'DYNAMIC', 'Server': 'cloudflare', 'CF-RAY': '812f46534c0b9fcb-SIN'}\n",
      "Response Body: \n",
      " {'name': 'ravi', 'job': 'leader', 'id': '124', 'createdAt': '2023-10-08T15:04:09.748Z'}\n",
      "Response Cookies: \n",
      " <RequestsCookieJar[]>\n"
     ]
    }
   ],
   "source": [
    "respose = requests.post(url= url + \"/api/users\", headers = header, json=json_payload)\n",
    "print(\"Response Code: \\n\", respose.status_code)\n",
    "print(\"Response Header: \\n\", respose.headers)\n",
    "print(\"Response Body: \\n\", respose.json())\n",
    "print(\"Response Cookies: \\n\", respose.cookies)"
   ]
  },
  {
   "cell_type": "code",
   "execution_count": 38,
   "id": "538f6556",
   "metadata": {},
   "outputs": [
    {
     "name": "stdout",
     "output_type": "stream",
     "text": [
      "Response Code: \n",
      " 201\n",
      "Response Header: \n",
      " {'Date': 'Sun, 08 Oct 2023 15:04:12 GMT', 'Content-Type': 'application/json; charset=utf-8', 'Content-Length': '80', 'Connection': 'keep-alive', 'Report-To': '{\"group\":\"heroku-nel\",\"max_age\":3600,\"endpoints\":[{\"url\":\"https://nel.heroku.com/reports?ts=1696777452&sid=c4c9725f-1ab0-44d8-820f-430df2718e11&s=CGqA8gZ%2BD7p1zhF1Ncv6WYvtksGaTKs2oPqB4WQZSLQ%3D\"}]}', 'Reporting-Endpoints': 'heroku-nel=https://nel.heroku.com/reports?ts=1696777452&sid=c4c9725f-1ab0-44d8-820f-430df2718e11&s=CGqA8gZ%2BD7p1zhF1Ncv6WYvtksGaTKs2oPqB4WQZSLQ%3D', 'Nel': '{\"report_to\":\"heroku-nel\",\"max_age\":3600,\"success_fraction\":0.005,\"failure_fraction\":0.05,\"response_headers\":[\"Via\"]}', 'X-Powered-By': 'Express', 'Access-Control-Allow-Origin': '*', 'Etag': 'W/\"50-FAZGop8Uj6xdB4WJ5qdjQxjNJ1E\"', 'Via': '1.1 vegur', 'CF-Cache-Status': 'DYNAMIC', 'Server': 'cloudflare', 'CF-RAY': '812f4662dccfa02d-SIN'}\n",
      "Response Body: \n",
      " {'name': 'ravi', 'job': 'leader', 'id': '669', 'createdAt': '2023-10-08T15:04:12.238Z'}\n",
      "Response Cookies: \n",
      " <RequestsCookieJar[]>\n"
     ]
    }
   ],
   "source": [
    "respose = requests.post(url= url + \"/api/users\", headers = header, data=json.dumps(json_payload))\n",
    "print(\"Response Code: \\n\", respose.status_code)\n",
    "print(\"Response Header: \\n\", respose.headers)\n",
    "print(\"Response Body: \\n\", respose.json())\n",
    "print(\"Response Cookies: \\n\", respose.cookies)"
   ]
  },
  {
   "cell_type": "markdown",
   "id": "b7d3513f",
   "metadata": {},
   "source": [
    "### API Automation with python pytest"
   ]
  },
  {
   "cell_type": "markdown",
   "id": "40444c49",
   "metadata": {},
   "source": [
    "https://www.youtube.com/watch?v=-Lk-_2saFk8&list=PLHT5rv7PEE4N3ol8lBoxHBmzWvVW2UwmC&index=8"
   ]
  },
  {
   "cell_type": "code",
   "execution_count": 39,
   "id": "6b8e9587",
   "metadata": {},
   "outputs": [],
   "source": [
    "# pip install pytest"
   ]
  },
  {
   "cell_type": "code",
   "execution_count": null,
   "id": "f12abeab",
   "metadata": {},
   "outputs": [],
   "source": []
  },
  {
   "cell_type": "code",
   "execution_count": 42,
   "id": "ebdd6f75",
   "metadata": {},
   "outputs": [],
   "source": [
    "def test_getrequest_validation():\n",
    "    header = {\"Content-Type\": 'application/json'}\n",
    "    base_url = \"https://reqres.in/\"\n",
    "    \n",
    "    print(base_url + 'api/users/2')\n",
    "    response = requests.get(url = str(base_url + 'api/users/2'), headers=header)\n",
    "    assert 200 == response.status_code\n",
    "    print(response.json())"
   ]
  },
  {
   "cell_type": "code",
   "execution_count": 43,
   "id": "5ff7638b",
   "metadata": {},
   "outputs": [
    {
     "name": "stdout",
     "output_type": "stream",
     "text": [
      "https://reqres.in/api/users/2\n",
      "{'data': {'id': 2, 'email': 'janet.weaver@reqres.in', 'first_name': 'Janet', 'last_name': 'Weaver', 'avatar': 'https://reqres.in/img/faces/2-image.jpg'}, 'support': {'url': 'https://reqres.in/#support-heading', 'text': 'To keep ReqRes free, contributions towards server costs are appreciated!'}}\n"
     ]
    }
   ],
   "source": [
    "test_getrequest_validation()"
   ]
  },
  {
   "cell_type": "code",
   "execution_count": null,
   "id": "bf097367",
   "metadata": {},
   "outputs": [],
   "source": []
  }
 ],
 "metadata": {
  "kernelspec": {
   "display_name": "Python 3 (ipykernel)",
   "language": "python",
   "name": "python3"
  },
  "language_info": {
   "codemirror_mode": {
    "name": "ipython",
    "version": 3
   },
   "file_extension": ".py",
   "mimetype": "text/x-python",
   "name": "python",
   "nbconvert_exporter": "python",
   "pygments_lexer": "ipython3",
   "version": "3.10.13"
  }
 },
 "nbformat": 4,
 "nbformat_minor": 5
}
